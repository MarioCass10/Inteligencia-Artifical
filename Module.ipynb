{
 "cells": [
  {
   "cell_type": "code",
   "execution_count": 1,
   "id": "2d2425ab-a5c0-44d4-a06c-14710d1a1ca8",
   "metadata": {},
   "outputs": [
    {
     "name": "stderr",
     "output_type": "stream",
     "text": [
      "2022-11-10 10:50:56.281908: I tensorflow/core/platform/cpu_feature_guard.cc:193] This TensorFlow binary is optimized with oneAPI Deep Neural Network Library (oneDNN) to use the following CPU instructions in performance-critical operations:  AVX2 FMA\n",
      "To enable them in other operations, rebuild TensorFlow with the appropriate compiler flags.\n",
      "2022-11-10 10:50:56.441913: W tensorflow/stream_executor/platform/default/dso_loader.cc:64] Could not load dynamic library 'libcudart.so.11.0'; dlerror: libcudart.so.11.0: cannot open shared object file: No such file or directory\n",
      "2022-11-10 10:50:56.441932: I tensorflow/stream_executor/cuda/cudart_stub.cc:29] Ignore above cudart dlerror if you do not have a GPU set up on your machine.\n",
      "2022-11-10 10:50:56.468944: E tensorflow/stream_executor/cuda/cuda_blas.cc:2981] Unable to register cuBLAS factory: Attempting to register factory for plugin cuBLAS when one has already been registered\n",
      "2022-11-10 10:50:57.045743: W tensorflow/stream_executor/platform/default/dso_loader.cc:64] Could not load dynamic library 'libnvinfer.so.7'; dlerror: libnvinfer.so.7: cannot open shared object file: No such file or directory\n",
      "2022-11-10 10:50:57.045902: W tensorflow/stream_executor/platform/default/dso_loader.cc:64] Could not load dynamic library 'libnvinfer_plugin.so.7'; dlerror: libnvinfer_plugin.so.7: cannot open shared object file: No such file or directory\n",
      "2022-11-10 10:50:57.045912: W tensorflow/compiler/tf2tensorrt/utils/py_utils.cc:38] TF-TRT Warning: Cannot dlopen some TensorRT libraries. If you would like to use Nvidia GPU with TensorRT, please make sure the missing libraries mentioned above are installed properly.\n"
     ]
    },
    {
     "name": "stdin",
     "output_type": "stream",
     "text": [
      "Ingresa un texto: Mira, Sancho, por el mismo que denantes juraste te juro -dijo don Quijote- que tienes el más corto entendimiento que tiene ni tuvo escudero en el mundo. ¿Que es posible que en cuanto ha que andas conmigo no has echado de ver que todas las cosas de los caballeros andantes parecen quimeras, necedades y desatinos, y que son todas hechas al revés? Y no porque sea ello ansí, sino porque andan entre nosotros siempre una caterva de encantadores que todas nuestras cosas mudan y truecan, y las vuelven según su gusto y según tienen la gana de favorecernos o destruirnos; y, así, eso que a ti te parece bacía de barbero me parece a mí el yelmo de Mambrino y a otro le parecerá otra cosa. Y fue rara providencia del sabio que es de mi parte hacer que parezca bacía a todos lo que real y verdaderamente es yelmo de Mambrino, a causa que, siendo él de tanta estima, todo el mundo me perseguiría por quitármele, pero como ven que no es más de un bacín de barbero, no se curan de procuralle, como se mostró bien en el que quiso rompelle y le dejó en el suelo sin llevarle, que a fe que si le conociera, que nunca él le dejara. Guárdale, amigo, que por ahora no le he menester, que antes me tengo de quitar todas estas armas y quedar desnudo como cuando nací, si es que me da en voluntad de seguir en mi penitencia más a Roldán que a Amadís .\n"
     ]
    },
    {
     "name": "stdout",
     "output_type": "stream",
     "text": [
      "[{'summary_text': 'Mira, Sancho, tienes el más corto entendimiento que tiene ni tuvo escudero en el mundo. A ti te parece bacía de barbero me pareces a mí el yelmo de Mambrino. Guárdale, amigo, que por ahora no le he menester, que antes me tengo de quitar todas estas armas.'}]\n"
     ]
    }
   ],
   "source": [
    "from transformers import pipeline\n",
    "\n",
    "summarizer = pipeline(\"summarization\", model=\"facebook/bart-large-cnn\") \n",
    "\n",
    "ARTICLE = input(\"Ingresa un texto:\")\n",
    "\n",
    "print(summarizer(ARTICLE, max_length=130, min_length=30, do_sample=False))"
   ]
  },
  {
   "cell_type": "code",
   "execution_count": null,
   "id": "c81d6fb5-afbe-46a8-822a-83f041e49241",
   "metadata": {},
   "outputs": [],
   "source": []
  }
 ],
 "metadata": {
  "kernelspec": {
   "display_name": "huggingface",
   "language": "python",
   "name": "huggingface"
  },
  "language_info": {
   "codemirror_mode": {
    "name": "ipython",
    "version": 3
   },
   "file_extension": ".py",
   "mimetype": "text/x-python",
   "name": "python",
   "nbconvert_exporter": "python",
   "pygments_lexer": "ipython3",
   "version": "3.9.13"
  }
 },
 "nbformat": 4,
 "nbformat_minor": 5
}
